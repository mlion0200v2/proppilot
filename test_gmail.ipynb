{
 "cells": [
  {
   "cell_type": "code",
   "execution_count": 29,
   "metadata": {},
   "outputs": [
    {
     "name": "stdout",
     "output_type": "stream",
     "text": [
      "Please visit this URL to authorize this application: https://accounts.google.com/o/oauth2/auth?response_type=code&client_id=576449840982-pi4v2k9ss2obpirrtv7ugten7setlf1a.apps.googleusercontent.com&redirect_uri=http%3A%2F%2Flocalhost%3A8080%2F&scope=https%3A%2F%2Fwww.googleapis.com%2Fauth%2Fgmail.readonly&state=ZWZtlnxg9QnshGgrLs1ZAI5IUhTCBY&access_type=offline\n",
      "Hi Simone,\n",
      "\n",
      "Tri-City Plumbing confirmed they can have a technician stop by unit #3707 tomorrow, Thursday July 17th, between 8:00am and 12:00pm to have a look at the AC unit while onsite for another job. Can you please ensure someone will be in the unit.\n",
      "\n",
      "Thank you,\n",
      "Cody\n",
      "\n",
      "From: Michael Erickson <merickson@pinnacleinternational.ca>\n",
      "Sent: July 15, 2025 10:27 AM\n",
      "To: Cody Peters <cpeters@pinnacleinternational.ca>\n",
      "Subject: Fwd: Air Conditioning Issue – Request for Duct Inspection\n",
      "\n",
      "\n",
      "\n",
      "\n",
      "Begin forwarded message:\n",
      "From: Simone Liu <vancouver.simoneliu@gmail.com<mailto:vancouver.simoneliu@gmail.com>>\n",
      "Date: July 15, 2025 at 10:12:58 AM PDT\n",
      "To: Michael Erickson <merickson@pinnacleinternational.ca<mailto:merickson@pinnacleinternational.ca>>\n",
      "Subject: Air Conditioning Issue – Request for Duct Inspection\n",
      "﻿\n",
      "\n",
      "Hi Michael,\n",
      "\n",
      "The tenant has reported an issue with the air conditioning in the two bedrooms—noting that there’s no cool air in those rooms, while the rest of the unit is functioning fine.\n",
      "\n",
      "We had a technician inspect the A/C unit itself, and it appears to be working properly. Given this, we suspect the issue might be related to the ductwork.\n",
      "\n",
      "Do you happen to have any tradespeople familiar with the building’s duct system who could take a look or provide further insight?\n",
      "\n",
      "Thank you in advance for your help.\n",
      "\n",
      "Best regards,\n",
      "\n",
      "Simone\n",
      "\n"
     ]
    }
   ],
   "source": [
    "import importlib\n",
    "import app.services.gmail_client as gmail_client\n",
    "\n",
    "importlib.reload(gmail_client)  # 🚨 Force reload\n",
    "\n",
    "emails = gmail_client.fetch_recent_emails(max_results=1)\n",
    "print(emails[0]['body'])"
   ]
  },
  {
   "cell_type": "code",
   "execution_count": 30,
   "metadata": {},
   "outputs": [
    {
     "name": "stdout",
     "output_type": "stream",
     "text": [
      "{'task': \"- Email Subject: Air Conditioning Issue – Request for Duct Inspection\\n- From: Cody Peters\\n- Todo: Ensure someone will be in unit #3707 on Thursday, July 17th, between 8:00 am and 12:00 pm for the Tri-City Plumbing technician's visit.\\n- Deadline: 2025-07-17\", 'due': '2025-07-18'}\n"
     ]
    }
   ],
   "source": [
    "import app.services.todo_generator as todo_generator\n",
    "importlib.reload(todo_generator)  # 🚨 Force reload\n",
    "\n",
    "todo = todo_generator.generate_todo_from_email(emails[0]['body'])\n",
    "print(todo)"
   ]
  },
  {
   "cell_type": "code",
   "execution_count": 32,
   "metadata": {},
   "outputs": [
    {
     "name": "stdout",
     "output_type": "stream",
     "text": [
      "Please visit this URL to authorize this application: https://accounts.google.com/o/oauth2/auth?response_type=code&client_id=576449840982-pi4v2k9ss2obpirrtv7ugten7setlf1a.apps.googleusercontent.com&redirect_uri=http%3A%2F%2Flocalhost%3A8080%2F&scope=https%3A%2F%2Fwww.googleapis.com%2Fauth%2Fgmail.readonly&state=8ouaNe2pfI89HAmFZAQLVkugBe3S12&access_type=offline\n",
      "✅ Saved todo to todo_list.json\n"
     ]
    }
   ],
   "source": [
    "from app.services.gmail_client import fetch_recent_emails\n",
    "\n",
    "import app.services.todo_generator as todo_generator\n",
    "import app.services.todo_storage as todo_storage\n",
    "importlib.reload(todo_generator)  # 🚨 Force reload\n",
    "importlib.reload(todo_storage)  # 🚨 Force reload\n",
    "\n",
    "emails = fetch_recent_emails(max_results=1)\n",
    "todo = todo_generator.generate_todo_from_email(emails[0]['body'])\n",
    "\n",
    "todo_storage.save_todo_to_file(todo)"
   ]
  },
  {
   "cell_type": "code",
   "execution_count": 22,
   "metadata": {},
   "outputs": [
    {
     "name": "stdout",
     "output_type": "stream",
     "text": [
      "\n",
      "📅 Today's ToDos:\n",
      "- - Email Subject: Air Conditioning Issue – Request for Duct Inspection\n",
      "- From: Cody Peters <cpeters@pinnacleinternational.ca>\n",
      "- Todo: Ensure someone is present in unit #3707 for the AC inspection by Tri-City Plumbing.\n",
      "- Deadline: 2025-07-17 (between 8:00am and 12:00pm) (Due: 2025-07-16)\n"
     ]
    }
   ],
   "source": [
    "import app.services.todo_storage as todo_storage\n",
    "importlib.reload(todo_storage)  # 🚨 Force reload\n",
    "\n",
    "today_todos = todo_storage.load_todos_for_today()\n",
    "print(\"\\n📅 Today's ToDos:\")\n",
    "for todo in today_todos:\n",
    "    print(f\"- {todo['task']} (Due: {todo['due']})\")"
   ]
  },
  {
   "cell_type": "code",
   "execution_count": 28,
   "metadata": {},
   "outputs": [],
   "source": [
    "import sys\n",
    "import os\n",
    "\n",
    "project_root = os.path.abspath(os.getcwd())\n",
    "if project_root not in sys.path:\n",
    "    sys.path.append(project_root)\n",
    "\n",
    "import scripts.daily_summary as daily_summary\n",
    "\n",
    "to_email = \"vancouver.simoneliu@gmail.com\"\n",
    "\n",
    "subject = \"📝 Today's To-Do Summary\"\n",
    "body = \"\"\"\n",
    "Here is your reminder for today:\n",
    "\n",
    "- Respond to John about lease renewal\n",
    "- Schedule repair for unit #305\n",
    "- Follow up with Natalie on tenant inquiry\n",
    "\"\"\"\n",
    "\n",
    "daily_summary.send_email_reminder(subject, body, to_email)"
   ]
  }
 ],
 "metadata": {
  "kernelspec": {
   "display_name": "proppilot",
   "language": "python",
   "name": "python3"
  },
  "language_info": {
   "codemirror_mode": {
    "name": "ipython",
    "version": 3
   },
   "file_extension": ".py",
   "mimetype": "text/x-python",
   "name": "python",
   "nbconvert_exporter": "python",
   "pygments_lexer": "ipython3",
   "version": "3.13.5"
  }
 },
 "nbformat": 4,
 "nbformat_minor": 2
}
