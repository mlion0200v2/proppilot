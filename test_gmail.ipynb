{
 "cells": [
  {
   "cell_type": "code",
   "execution_count": 7,
   "metadata": {},
   "outputs": [
    {
     "name": "stdout",
     "output_type": "stream",
     "text": [
      "Hi ZhiYing,\n",
      "\n",
      "Please see the attached Notice of Rent Increase (RTB-7), your rent will increase from 2794 to 2877 on November 1, 2025. I will send an updated PAD for your signature shortly.\n",
      "\n",
      "Thank you. \n",
      "\n",
      "Bob Zhong\n",
      "REALTOR® | Luxmore Realty\n",
      "Cell: 778-885-3261\n",
      "Website: BobZhong.com\n",
      "\n",
      "\n"
     ]
    }
   ],
   "source": [
    "import importlib\n",
    "import app.services.gmail_client as gmail_client\n",
    "\n",
    "importlib.reload(gmail_client)  # 🚨 Force reload\n",
    "\n",
    "emails = gmail_client.fetch_recent_emails(max_results=1)\n",
    "print(emails[0]['body'])"
   ]
  },
  {
   "cell_type": "code",
   "execution_count": 2,
   "metadata": {},
   "outputs": [
    {
     "name": "stdout",
     "output_type": "stream",
     "text": [
      "{'task': '- Email Subject: Termination of Property Management Agreement\\n- From: Simone Liu <vancouver.simoneliu@gmail.com>\\n- Todo: Pick up keys for the properties at 8720 Odlin Road and 4331 Garden City Road from the Richmond office at 11111 Horseshoe Way.\\n- Deadline: 2025-06-15\\n\\n- Todo: Arrange for rent collection directly from the tenant or appoint another property management company for 8720 Odlin Road and 4331 Garden City Road starting July 1, 2025.\\n- Deadline: 2025-07-01', 'due': '2025-07-19', 'done': False}\n"
     ]
    }
   ],
   "source": [
    "import app.services.todo_generator as todo_generator\n",
    "importlib.reload(todo_generator)  # 🚨 Force reload\n",
    "\n",
    "todo = todo_generator.generate_todo_from_email(emails[0]['body'])\n",
    "print(todo)"
   ]
  },
  {
   "cell_type": "code",
   "execution_count": 4,
   "metadata": {},
   "outputs": [],
   "source": [
    "from app.services.gmail_client import fetch_recent_emails\n",
    "\n",
    "import app.services.todo_generator as todo_generator\n",
    "import app.services.todo_storage as todo_storage\n",
    "importlib.reload(todo_generator)  # 🚨 Force reload\n",
    "importlib.reload(todo_storage)  # 🚨 Force reload\n",
    "\n",
    "emails = fetch_recent_emails(max_results=1)\n",
    "todo = todo_generator.generate_todo_from_email(emails[0]['body'])\n",
    "\n",
    "todo_storage.save_todo_to_file(todo)"
   ]
  },
  {
   "cell_type": "code",
   "execution_count": 22,
   "metadata": {},
   "outputs": [
    {
     "name": "stdout",
     "output_type": "stream",
     "text": [
      "\n",
      "📅 Today's ToDos:\n",
      "- - Email Subject: Air Conditioning Issue – Request for Duct Inspection\n",
      "- From: Cody Peters <cpeters@pinnacleinternational.ca>\n",
      "- Todo: Ensure someone is present in unit #3707 for the AC inspection by Tri-City Plumbing.\n",
      "- Deadline: 2025-07-17 (between 8:00am and 12:00pm) (Due: 2025-07-16)\n"
     ]
    }
   ],
   "source": [
    "import app.services.todo_storage as todo_storage\n",
    "importlib.reload(todo_storage)  # 🚨 Force reload\n",
    "\n",
    "today_todos = todo_storage.load_todos_for_today()\n",
    "print(\"\\n📅 Today's ToDos:\")\n",
    "for todo in today_todos:\n",
    "    print(f\"- {todo['task']} (Due: {todo['due']})\")"
   ]
  },
  {
   "cell_type": "code",
   "execution_count": 28,
   "metadata": {},
   "outputs": [],
   "source": [
    "import sys\n",
    "import os\n",
    "\n",
    "project_root = os.path.abspath(os.getcwd())\n",
    "if project_root not in sys.path:\n",
    "    sys.path.append(project_root)\n",
    "\n",
    "import scripts.daily_summary as daily_summary\n",
    "\n",
    "to_email = \"vancouver.simoneliu@gmail.com\"\n",
    "\n",
    "subject = \"📝 Today's To-Do Summary\"\n",
    "body = \"\"\"\n",
    "Here is your reminder for today:\n",
    "\n",
    "- Respond to John about lease renewal\n",
    "- Schedule repair for unit #305\n",
    "- Follow up with Natalie on tenant inquiry\n",
    "\"\"\"\n",
    "\n",
    "daily_summary.send_email_reminder(subject, body, to_email)"
   ]
  }
 ],
 "metadata": {
  "kernelspec": {
   "display_name": "proppilot",
   "language": "python",
   "name": "python3"
  },
  "language_info": {
   "codemirror_mode": {
    "name": "ipython",
    "version": 3
   },
   "file_extension": ".py",
   "mimetype": "text/x-python",
   "name": "python",
   "nbconvert_exporter": "python",
   "pygments_lexer": "ipython3",
   "version": "3.13.5"
  }
 },
 "nbformat": 4,
 "nbformat_minor": 2
}
